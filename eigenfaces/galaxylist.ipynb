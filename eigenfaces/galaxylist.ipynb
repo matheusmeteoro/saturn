{
 "cells": [
  {
   "cell_type": "code",
   "execution_count": 26,
   "metadata": {},
   "outputs": [
    {
     "name": "stdout",
     "output_type": "stream",
     "text": [
      "Index(['ra', 'dec', 'objid', 'run', 'rerun', 'camcol', 'field'], dtype='object')\n"
     ]
    }
   ],
   "source": [
    "from astropy import coordinates as coords\n",
    "from astroquery.sdss import SDSS\n",
    "import astropy.units as u\n",
    "import pandas as pd\n",
    "\n",
    "# Define as coordenadas\n",
    "co = coords.SkyCoord('0h8m05.63s +14d50m23.3s')\n",
    "\n",
    "# Consulta ao SDSS\n",
    "result = SDSS.query_region(co, radius=5 * u.arcsec)\n",
    "\n",
    "# Converte os resultados para um DataFrame do pandas\n",
    "df = result.to_pandas()\n",
    "\n",
    "# Imprime os nomes das colunas disponíveis\n",
    "print(df.columns)"
   ]
  },
  {
   "cell_type": "code",
   "execution_count": 32,
   "metadata": {},
   "outputs": [
    {
     "name": "stdout",
     "output_type": "stream",
     "text": [
      "Index(['ra', 'dec', 'objid', 'run', 'rerun', 'camcol', 'field', 'z', 'plate',\n",
      "       'mjd', 'fiberID', 'specobjid', 'run2d'],\n",
      "      dtype='object')\n"
     ]
    }
   ],
   "source": [
    "# Consulta adicional para obter informações detalhadas\n",
    "data = SDSS.query_region(co, radius=5* u.arcsec,spectro=True)\n",
    "df = data.to_pandas()\n",
    "\n",
    "# Exibir as colunas disponíveis\n",
    "print(df.columns)"
   ]
  },
  {
   "cell_type": "code",
   "execution_count": 36,
   "metadata": {},
   "outputs": [
    {
     "ename": "ModuleNotFoundError",
     "evalue": "No module named 'SciServer'",
     "output_type": "error",
     "traceback": [
      "\u001b[0;31m---------------------------------------------------------------------------\u001b[0m",
      "\u001b[0;31mModuleNotFoundError\u001b[0m                       Traceback (most recent call last)",
      "Cell \u001b[0;32mIn[36], line 1\u001b[0m\n\u001b[0;32m----> 1\u001b[0m \u001b[38;5;28;01mimport\u001b[39;00m \u001b[38;5;21;01mSciServer\u001b[39;00m\n\u001b[1;32m      2\u001b[0m \u001b[38;5;28;01mfrom\u001b[39;00m \u001b[38;5;21;01mSciServer\u001b[39;00m \u001b[38;5;28;01mimport\u001b[39;00m CasJobs\n\u001b[1;32m      3\u001b[0m \u001b[38;5;28;01mimport\u001b[39;00m \u001b[38;5;21;01mpandas\u001b[39;00m \u001b[38;5;28;01mas\u001b[39;00m \u001b[38;5;21;01mpd\u001b[39;00m\n",
      "\u001b[0;31mModuleNotFoundError\u001b[0m: No module named 'SciServer'"
     ]
    }
   ],
   "source": [
    "import SciServer\n",
    "from SciServer import CasJobs\n",
    "import pandas as pd\n",
    "\n",
    "# Define o contexto para SDSS Data Release 14\n",
    "context = \"dr14\"\n",
    "\n",
    "# Define a consulta SQL para obter 10 galáxias\n",
    "# Modifique a consulta para corresponder às colunas e tipos disponíveis\n",
    "query = \"\"\"\n",
    "SELECT TOP 10 objid, ra, dec, g, r, i, z\n",
    "FROM Galaxy\n",
    "WHERE fPhotoType = 3\n",
    "\"\"\"\n",
    "\n",
    "# Executa a consulta\n",
    "df = CasJobs.executeQuery(sql=query, context=context)\n",
    "\n",
    "# Exibe os resultados\n",
    "print(df)"
   ]
  }
 ],
 "metadata": {
  "kernelspec": {
   "display_name": "venv",
   "language": "python",
   "name": "python3"
  },
  "language_info": {
   "codemirror_mode": {
    "name": "ipython",
    "version": 3
   },
   "file_extension": ".py",
   "mimetype": "text/x-python",
   "name": "python",
   "nbconvert_exporter": "python",
   "pygments_lexer": "ipython3",
   "version": "3.11.7"
  }
 },
 "nbformat": 4,
 "nbformat_minor": 2
}
