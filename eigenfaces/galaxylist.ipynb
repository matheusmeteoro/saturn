{
 "cells": [
  {
   "cell_type": "code",
   "execution_count": 1,
   "metadata": {},
   "outputs": [
    {
     "name": "stdout",
     "output_type": "stream",
     "text": [
      "Index(['ra', 'dec', 'objid', 'run', 'rerun', 'camcol', 'field'], dtype='object')\n"
     ]
    }
   ],
   "source": [
    "from astropy import coordinates as coords\n",
    "from astroquery.sdss import SDSS\n",
    "import astropy.units as u\n",
    "import pandas as pd\n",
    "\n",
    "# Define as coordenadas\n",
    "co = coords.SkyCoord('0h8m05.63s +14d50m23.3s')\n",
    "\n",
    "# Consulta ao SDSS\n",
    "result = SDSS.query_region(co, radius=5 * u.arcsec)\n",
    "\n",
    "# Converte os resultados para um DataFrame do pandas\n",
    "df = result.to_pandas()\n",
    "\n",
    "# Imprime os nomes das colunas disponíveis\n",
    "print(df.columns)"
   ]
  },
  {
   "cell_type": "code",
   "execution_count": 2,
   "metadata": {},
   "outputs": [
    {
     "name": "stdout",
     "output_type": "stream",
     "text": [
      "Index(['ra', 'dec', 'objid', 'run', 'rerun', 'camcol', 'field', 'z', 'plate',\n",
      "       'mjd', 'fiberID', 'specobjid', 'run2d'],\n",
      "      dtype='object')\n"
     ]
    }
   ],
   "source": [
    "# Consulta adicional para obter informações detalhadas\n",
    "data = SDSS.query_region(co, radius=5* u.arcsec,spectro=True)\n",
    "df = data.to_pandas()\n",
    "\n",
    "# Exibir as colunas disponíveis\n",
    "print(df.columns)"
   ]
  },
  {
   "cell_type": "code",
   "execution_count": 4,
   "metadata": {},
   "outputs": [
    {
     "name": "stdout",
     "output_type": "stream",
     "text": [
      "Arquivo filtrado com 20 espirais, OBJID, RA e DEC salvo em: ./GalaxyZoo1_DR_table2_SPIRAL_20_objid_ra_dec.csv\n"
     ]
    }
   ],
   "source": [
    "#faz tabela com SPIRAL\n",
    "\n",
    "\n",
    "import pandas as pd\n",
    "\n",
    "# Defina o caminho para o arquivo CSV\n",
    "arquivo_csv = './GalaxyZoo1_DR_table2.csv'\n",
    "\n",
    "# Leia o arquivo CSV usando pandas\n",
    "dados = pd.read_csv(arquivo_csv)\n",
    "\n",
    "# Filtre as linhas onde a coluna 'SPIRAL' é igual a 1\n",
    "filtro_espiral = dados[dados['SPIRAL'] == 1]\n",
    "\n",
    "# Selecione as primeiras 20 linhas\n",
    "filtro_espiral_20 = filtro_espiral.head(300)\n",
    "\n",
    "# Selecione as colunas 'OBJID', 'RA' e 'DEC'\n",
    "objid_ra_dec = filtro_espiral_20[['OBJID', 'RA', 'DEC']]\n",
    "\n",
    "# Salve o resultado em um novo arquivo CSV com espaço como delimitador\n",
    "arquivo_saida = './GalaxyZoo1_DR_table2_SPIRAL_20_objid_ra_dec.csv'\n",
    "objid_ra_dec.to_csv(arquivo_saida, sep=' ', index=False)\n",
    "\n",
    "print(f\"Arquivo filtrado com 20 espirais, OBJID, RA e DEC salvo em: {arquivo_saida}\")\n"
   ]
  },
  {
   "cell_type": "code",
   "execution_count": 3,
   "metadata": {},
   "outputs": [
    {
     "name": "stdout",
     "output_type": "stream",
     "text": [
      "Arquivo filtrado com 20 elípticas, OBJID, RA e DEC salvo em: ./GalaxyZoo1_DR_table2_ELLIPTICAL_20_objid_ra_dec.csv\n"
     ]
    }
   ],
   "source": [
    "#FAZER LISTA COM ELIPTICAS\n",
    "\n",
    "import pandas as pd\n",
    "\n",
    "# Defina o caminho para o arquivo CSV\n",
    "arquivo_csv = './GalaxyZoo1_DR_table2.csv'\n",
    "\n",
    "# Leia o arquivo CSV usando pandas\n",
    "dados = pd.read_csv(arquivo_csv)\n",
    "\n",
    "# Filtre as linhas onde a coluna 'ELLIPTICAL' é igual a 1\n",
    "filtro_espiral = dados[dados['ELLIPTICAL'] == 1]\n",
    "\n",
    "# Selecione as primeiras 20 linhas\n",
    "filtro_espiral_20 = filtro_espiral.head(90)\n",
    "\n",
    "# Selecione as colunas 'OBJID', 'RA' e 'DEC'\n",
    "objid_ra_dec = filtro_espiral_20[['OBJID', 'RA', 'DEC']]\n",
    "\n",
    "# Salve o resultado em um novo arquivo CSV com espaço como delimitador\n",
    "arquivo_saida = './GalaxyZoo1_DR_table2_ELLIPTICAL_20_objid_ra_dec.csv'\n",
    "objid_ra_dec.to_csv(arquivo_saida, sep=' ', index=False)\n",
    "\n",
    "print(f\"Arquivo filtrado com 20 elípticas, OBJID, RA e DEC salvo em: {arquivo_saida}\")\n"
   ]
  }
 ],
 "metadata": {
  "kernelspec": {
   "display_name": "venv",
   "language": "python",
   "name": "python3"
  },
  "language_info": {
   "codemirror_mode": {
    "name": "ipython",
    "version": 3
   },
   "file_extension": ".py",
   "mimetype": "text/x-python",
   "name": "python",
   "nbconvert_exporter": "python",
   "pygments_lexer": "ipython3",
   "version": "3.11.7"
  }
 },
 "nbformat": 4,
 "nbformat_minor": 2
}
